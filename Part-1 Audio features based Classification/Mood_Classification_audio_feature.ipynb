{
 "cells": [
  {
   "cell_type": "code",
   "execution_count": 1,
   "metadata": {},
   "outputs": [
    {
     "data": {
      "image/png": "[encoded data removed]",
      "text/plain": [
       "<Figure size 288x72 with 1 Axes>"
      ]
     },
     "metadata": {},
     "output_type": "display_data"
    }
   ],
   "source": [
    "import numpy as np\n",
    "import pandas as pd\n",
    "# To make this notebook's output stable across runs\n",
    "np.random.seed(42)\n",
    "\n",
    "# To plot pretty figures\n",
    "%matplotlib inline\n",
    "import matplotlib as mpl\n",
    "import matplotlib.pyplot as plt\n",
    "mpl.rc('axes', labelsize=14)\n",
    "mpl.rc('xtick', labelsize=12)\n",
    "mpl.rc('ytick', labelsize=12)\n",
    "\n",
    "import seaborn as sns\n",
    "#set style of plots\n",
    "sns.set_style('white')\n",
    "\n",
    "#define a custom palette\n",
    "customPalette = ['#630C3A', '#39C8C6', '#D3500C', '#FFB139']\n",
    "sns.set_palette(customPalette)\n",
    "sns.palplot(customPalette)\n",
    "\n",
    "\n",
    "# Ignore useless warnings (see SciPy issue #5998)\n",
    "import warnings\n",
    "warnings.filterwarnings(action=\"ignore\", message=\"^internal gelsd\")"
   ]
  },
  {
   "cell_type": "code",
   "execution_count": 2,
   "metadata": {},
   "outputs": [
    {
     "name": "stdout",
     "output_type": "stream",
     "text": [
      "<class 'pandas.core.frame.DataFrame'>\n",
      "RangeIndex: 1994 entries, 0 to 1993\n",
      "Data columns (total 15 columns):\n",
      " #   Column                  Non-Null Count  Dtype \n",
      "---  ------                  --------------  ----- \n",
      " 0   Index                   1994 non-null   int64 \n",
      " 1   Title                   1994 non-null   object\n",
      " 2   Artist                  1994 non-null   object\n",
      " 3   Top Genre               1994 non-null   object\n",
      " 4   Year                    1994 non-null   int64 \n",
      " 5   Beats Per Minute (BPM)  1994 non-null   int64 \n",
      " 6   Energy                  1994 non-null   int64 \n",
      " 7   Danceability            1994 non-null   int64 \n",
      " 8   Loudness (dB)           1994 non-null   int64 \n",
      " 9   Liveness                1994 non-null   int64 \n",
      " 10  Valence                 1994 non-null   int64 \n",
      " 11  Length (Duration)       1994 non-null   object\n",
      " 12  Acousticness            1994 non-null   int64 \n",
      " 13  Speechiness             1994 non-null   int64 \n",
      " 14  Popularity              1994 non-null   int64 \n",
      "dtypes: int64(11), object(4)\n",
      "memory usage: 233.8+ KB\n"
     ]
    }
   ],
   "source": [
    "# Import my spotify data\n",
    "songs = pd.read_csv(\"Spotify-2000.csv\")\n",
    "songs.info()"
   ]
  },
  {
   "cell_type": "code",
   "execution_count": 3,
   "metadata": {},
   "outputs": [
    {
     "data": {
      "text/html": [
       "<div>\n",
       "<style scoped>\n",
       "    .dataframe tbody tr th:only-of-type {\n",
       "        vertical-align: middle;\n",
       "    }\n",
       "\n",
       "    .dataframe tbody tr th {\n",
       "        vertical-align: top;\n",
       "    }\n",
       "\n",
       "    .dataframe thead th {\n",
       "        text-align: right;\n",
       "    }\n",
       "</style>\n",
       "<table border=\"1\" class=\"dataframe\">\n",
       "  <thead>\n",
       "    <tr style=\"text-align: right;\">\n",
       "      <th></th>\n",
       "      <th>Title</th>\n",
       "      <th>Artist</th>\n",
       "      <th>Danceability</th>\n",
       "      <th>Loudness (dB)</th>\n",
       "      <th>Speechiness</th>\n",
       "      <th>Acousticness</th>\n",
       "      <th>Liveness</th>\n",
       "    </tr>\n",
       "  </thead>\n",
       "  <tbody>\n",
       "    <tr>\n",
       "      <th>0</th>\n",
       "      <td>Sunrise</td>\n",
       "      <td>Norah Jones</td>\n",
       "      <td>53</td>\n",
       "      <td>-14</td>\n",
       "      <td>3</td>\n",
       "      <td>94</td>\n",
       "      <td>11</td>\n",
       "    </tr>\n",
       "    <tr>\n",
       "      <th>1</th>\n",
       "      <td>Black Night</td>\n",
       "      <td>Deep Purple</td>\n",
       "      <td>50</td>\n",
       "      <td>-11</td>\n",
       "      <td>7</td>\n",
       "      <td>17</td>\n",
       "      <td>17</td>\n",
       "    </tr>\n",
       "    <tr>\n",
       "      <th>2</th>\n",
       "      <td>Clint Eastwood</td>\n",
       "      <td>Gorillaz</td>\n",
       "      <td>66</td>\n",
       "      <td>-9</td>\n",
       "      <td>17</td>\n",
       "      <td>2</td>\n",
       "      <td>7</td>\n",
       "    </tr>\n",
       "    <tr>\n",
       "      <th>3</th>\n",
       "      <td>The Pretender</td>\n",
       "      <td>Foo Fighters</td>\n",
       "      <td>43</td>\n",
       "      <td>-4</td>\n",
       "      <td>4</td>\n",
       "      <td>0</td>\n",
       "      <td>3</td>\n",
       "    </tr>\n",
       "    <tr>\n",
       "      <th>4</th>\n",
       "      <td>Waitin' On A Sunny Day</td>\n",
       "      <td>Bruce Springsteen</td>\n",
       "      <td>58</td>\n",
       "      <td>-5</td>\n",
       "      <td>3</td>\n",
       "      <td>1</td>\n",
       "      <td>10</td>\n",
       "    </tr>\n",
       "  </tbody>\n",
       "</table>\n",
       "</div>"
      ],
      "text/plain": [
       "                    Title             Artist  Danceability  Loudness (dB)  \\\n",
       "0                 Sunrise        Norah Jones            53            -14   \n",
       "1             Black Night        Deep Purple            50            -11   \n",
       "2          Clint Eastwood           Gorillaz            66             -9   \n",
       "3           The Pretender       Foo Fighters            43             -4   \n",
       "4  Waitin' On A Sunny Day  Bruce Springsteen            58             -5   \n",
       "\n",
       "   Speechiness  Acousticness  Liveness  \n",
       "0            3            94        11  \n",
       "1            7            17        17  \n",
       "2           17             2         7  \n",
       "3            4             0         3  \n",
       "4            3             1        10  "
      ]
     },
     "execution_count": 3,
     "metadata": {},
     "output_type": "execute_result"
    }
   ],
   "source": [
    "songs = songs[['Title' , 'Artist' ,'Danceability',\n",
    "                     'Loudness (dB)' ,'Speechiness' ,'Acousticness' ,'Liveness']]\n",
    "songs.head()"
   ]
  },
  {
   "cell_type": "code",
   "execution_count": 4,
   "metadata": {},
   "outputs": [
    {
     "data": {
      "text/html": [
       "<div>\n",
       "<style scoped>\n",
       "    .dataframe tbody tr th:only-of-type {\n",
       "        vertical-align: middle;\n",
       "    }\n",
       "\n",
       "    .dataframe tbody tr th {\n",
       "        vertical-align: top;\n",
       "    }\n",
       "\n",
       "    .dataframe thead th {\n",
       "        text-align: right;\n",
       "    }\n",
       "</style>\n",
       "<table border=\"1\" class=\"dataframe\">\n",
       "  <thead>\n",
       "    <tr style=\"text-align: right;\">\n",
       "      <th></th>\n",
       "      <th>Danceability</th>\n",
       "      <th>Loudness (dB)</th>\n",
       "      <th>Speechiness</th>\n",
       "      <th>Acousticness</th>\n",
       "      <th>Liveness</th>\n",
       "    </tr>\n",
       "  </thead>\n",
       "  <tbody>\n",
       "    <tr>\n",
       "      <th>count</th>\n",
       "      <td>1994.000000</td>\n",
       "      <td>1994.000000</td>\n",
       "      <td>1994.000000</td>\n",
       "      <td>1994.000000</td>\n",
       "      <td>1994.000000</td>\n",
       "    </tr>\n",
       "    <tr>\n",
       "      <th>mean</th>\n",
       "      <td>53.238215</td>\n",
       "      <td>-9.008526</td>\n",
       "      <td>4.994985</td>\n",
       "      <td>28.858074</td>\n",
       "      <td>19.012036</td>\n",
       "    </tr>\n",
       "    <tr>\n",
       "      <th>std</th>\n",
       "      <td>15.351507</td>\n",
       "      <td>3.647876</td>\n",
       "      <td>4.401566</td>\n",
       "      <td>29.011986</td>\n",
       "      <td>16.727378</td>\n",
       "    </tr>\n",
       "    <tr>\n",
       "      <th>min</th>\n",
       "      <td>10.000000</td>\n",
       "      <td>-27.000000</td>\n",
       "      <td>2.000000</td>\n",
       "      <td>0.000000</td>\n",
       "      <td>2.000000</td>\n",
       "    </tr>\n",
       "    <tr>\n",
       "      <th>25%</th>\n",
       "      <td>43.000000</td>\n",
       "      <td>-11.000000</td>\n",
       "      <td>3.000000</td>\n",
       "      <td>3.000000</td>\n",
       "      <td>9.000000</td>\n",
       "    </tr>\n",
       "    <tr>\n",
       "      <th>50%</th>\n",
       "      <td>53.000000</td>\n",
       "      <td>-8.000000</td>\n",
       "      <td>4.000000</td>\n",
       "      <td>18.000000</td>\n",
       "      <td>12.000000</td>\n",
       "    </tr>\n",
       "    <tr>\n",
       "      <th>75%</th>\n",
       "      <td>64.000000</td>\n",
       "      <td>-6.000000</td>\n",
       "      <td>5.000000</td>\n",
       "      <td>50.000000</td>\n",
       "      <td>23.000000</td>\n",
       "    </tr>\n",
       "    <tr>\n",
       "      <th>max</th>\n",
       "      <td>96.000000</td>\n",
       "      <td>-2.000000</td>\n",
       "      <td>55.000000</td>\n",
       "      <td>99.000000</td>\n",
       "      <td>99.000000</td>\n",
       "    </tr>\n",
       "  </tbody>\n",
       "</table>\n",
       "</div>"
      ],
      "text/plain": [
       "       Danceability  Loudness (dB)  Speechiness  Acousticness     Liveness\n",
       "count   1994.000000    1994.000000  1994.000000   1994.000000  1994.000000\n",
       "mean      53.238215      -9.008526     4.994985     28.858074    19.012036\n",
       "std       15.351507       3.647876     4.401566     29.011986    16.727378\n",
       "min       10.000000     -27.000000     2.000000      0.000000     2.000000\n",
       "25%       43.000000     -11.000000     3.000000      3.000000     9.000000\n",
       "50%       53.000000      -8.000000     4.000000     18.000000    12.000000\n",
       "75%       64.000000      -6.000000     5.000000     50.000000    23.000000\n",
       "max       96.000000      -2.000000    55.000000     99.000000    99.000000"
      ]
     },
     "execution_count": 4,
     "metadata": {},
     "output_type": "execute_result"
    }
   ],
   "source": [
    "# to describe numerical features we can use describe()\n",
    "songs.describe()"
   ]
  },
  {
   "cell_type": "code",
   "execution_count": 5,
   "metadata": {},
   "outputs": [
    {
     "data": {
      "text/plain": [
       "array([[<matplotlib.axes._subplots.AxesSubplot object at 0x000002371DDEA6D0>,\n",
       "        <matplotlib.axes._subplots.AxesSubplot object at 0x000002371DE14B80>],\n",
       "       [<matplotlib.axes._subplots.AxesSubplot object at 0x000002371DE430A0>,\n",
       "        <matplotlib.axes._subplots.AxesSubplot object at 0x000002371DE7B490>],\n",
       "       [<matplotlib.axes._subplots.AxesSubplot object at 0x000002371DEA78E0>,\n",
       "        <matplotlib.axes._subplots.AxesSubplot object at 0x000002371DED5D90>]],\n",
       "      dtype=object)"
      ]
     },
     "execution_count": 5,
     "metadata": {},
     "output_type": "execute_result"
    },
    {
     "data": {
      "image/png": "[encoded data removed]",
      "text/plain": [
       "<Figure size 1440x1080 with 6 Axes>"
      ]
     },
     "metadata": {},
     "output_type": "display_data"
    }
   ],
   "source": [
    "# feature scaling \n",
    "from sklearn import preprocessing\n",
    "\n",
    "loudness = songs[['Loudness (dB)']].values\n",
    "min_max_scaler = preprocessing.MinMaxScaler()\n",
    "loudness_scaled = min_max_scaler.fit_transform(loudness)\n",
    "songs['Loudness (dB)'] = pd.DataFrame(loudness_scaled)\n",
    "\n",
    "\n",
    "danc = songs[['Danceability']].values\n",
    "danc_scaled = min_max_scaler.fit_transform(danc)\n",
    "songs['Danceability'] = pd.DataFrame(danc_scaled)\n",
    "\n",
    "\n",
    "speech = songs[['Speechiness']].values\n",
    "speech_scaled = min_max_scaler.fit_transform(speech)\n",
    "songs['Speechiness'] = pd.DataFrame(speech_scaled)\n",
    "\n",
    "\n",
    "acoust = songs[['Acousticness']].values\n",
    "acoust_scaled = min_max_scaler.fit_transform(acoust)\n",
    "songs['Acousticness'] = pd.DataFrame(acoust_scaled)\n",
    "\n",
    "live = songs[['Liveness']].values\n",
    "live_scaled = min_max_scaler.fit_transform(live)\n",
    "songs['Liveness'] = pd.DataFrame(live_scaled)\n",
    "\n",
    "\n",
    "\n",
    "\n",
    "songs.hist(bins=50,figsize=(20,15))"
   ]
  },
  {
   "cell_type": "code",
   "execution_count": 6,
   "metadata": {},
   "outputs": [],
   "source": [
    "# from pandas.plotting import scatter_matrix\n",
    "# # attributes should contain the features we want to compare\n",
    "# attr = ['danceability','energy','loudness','speechiness','acousticness','tempo','liveness','valence']\n",
    "\n",
    "# scatter_matrix(songs[attr],figsize=(12,8))"
   ]
  },
  {
   "cell_type": "code",
   "execution_count": 7,
   "metadata": {},
   "outputs": [],
   "source": [
    "# remove song names, artist and id before clustering\n",
    "songs_features = songs.copy()\n",
    "songs_features = songs_features.drop(['Title','Artist'],axis=1)"
   ]
  },
  {
   "cell_type": "code",
   "execution_count": 8,
   "metadata": {},
   "outputs": [],
   "source": [
    "from sklearn.cluster import KMeans\n",
    "\n",
    "Sum_of_squared_distances = []\n",
    "K = range(1,20)\n",
    "for k in K:\n",
    "    km = KMeans(n_clusters=k)\n",
    "    km = km.fit(songs_features)\n",
    "    Sum_of_squared_distances.append(km.inertia_)"
   ]
  },
  {
   "cell_type": "code",
   "execution_count": 9,
   "metadata": {},
   "outputs": [
    {
     "name": "stdout",
     "output_type": "stream",
     "text": [
      "For n_clusters = 2, silhouette score is 0.3947675207438496)\n",
      "For n_clusters = 3, silhouette score is 0.35521381739026686)\n",
      "For n_clusters = 4, silhouette score is 0.2706566001298479)\n",
      "For n_clusters = 5, silhouette score is 0.24195330277245986)\n",
      "For n_clusters = 6, silhouette score is 0.23578828494037088)\n",
      "For n_clusters = 7, silhouette score is 0.2283683788715119)\n",
      "For n_clusters = 8, silhouette score is 0.23507806432584213)\n",
      "For n_clusters = 9, silhouette score is 0.21417834014618511)\n",
      "For n_clusters = 10, silhouette score is 0.20800477912699344)\n",
      "For n_clusters = 11, silhouette score is 0.2051886219308754)\n",
      "For n_clusters = 12, silhouette score is 0.2066551708706308)\n",
      "For n_clusters = 13, silhouette score is 0.20859862073450944)\n",
      "For n_clusters = 14, silhouette score is 0.20836449409513577)\n",
      "For n_clusters = 15, silhouette score is 0.20504490937384265)\n",
      "For n_clusters = 16, silhouette score is 0.20276256883664565)\n",
      "For n_clusters = 17, silhouette score is 0.20495629972673324)\n",
      "For n_clusters = 18, silhouette score is 0.2147733030364192)\n",
      "For n_clusters = 19, silhouette score is 0.20414254685145494)\n"
     ]
    }
   ],
   "source": [
    "from sklearn.metrics import silhouette_score\n",
    "for n_clusters in range(2,20):\n",
    "    clusterer = KMeans (n_clusters=n_clusters)\n",
    "    preds = clusterer.fit_predict(songs_features)\n",
    "    centers = clusterer.cluster_centers_\n",
    "\n",
    "    score = silhouette_score (songs_features, preds, metric='euclidean')\n",
    "    print (\"For n_clusters = {}, silhouette score is {})\".format(n_clusters, score))"
   ]
  },
  {
   "cell_type": "code",
   "execution_count": 10,
   "metadata": {},
   "outputs": [
    {
     "data": {
      "image/png": "[encoded data removed]",
      "text/plain": [
       "<Figure size 432x288 with 1 Axes>"
      ]
     },
     "metadata": {},
     "output_type": "display_data"
    }
   ],
   "source": [
    "plt.plot(K[0:40], Sum_of_squared_distances[0:40], 'gx-')\n",
    "plt.xlabel('k')\n",
    "plt.ylabel('Sum_of_squared_distances')\n",
    "plt.title('Elbow Method For Optimal k')\n",
    "plt.show()"
   ]
  },
  {
   "cell_type": "code",
   "execution_count": 11,
   "metadata": {},
   "outputs": [
    {
     "data": {
      "text/plain": [
       "KMeans(n_clusters=5)"
      ]
     },
     "execution_count": 11,
     "metadata": {},
     "output_type": "execute_result"
    }
   ],
   "source": [
    "kmeans = KMeans(n_clusters=5)\n",
    "kmeans.fit(songs_features)"
   ]
  },
  {
   "cell_type": "code",
   "execution_count": 12,
   "metadata": {},
   "outputs": [],
   "source": [
    "\n",
    "# PCA to reduce our data to 2 dimensions for visualisation\n",
    "from sklearn.decomposition import PCA\n",
    "y_kmeans = kmeans.predict(songs_features)\n",
    "pca = PCA(n_components=2)\n",
    "principal_components = pca.fit_transform(songs_features)"
   ]
  },
  {
   "cell_type": "code",
   "execution_count": 13,
   "metadata": {},
   "outputs": [
    {
     "data": {
      "image/png": "[encoded data removed]",
      "text/plain": [
       "<Figure size 401.625x360 with 1 Axes>"
      ]
     },
     "metadata": {},
     "output_type": "display_data"
    }
   ],
   "source": [
    "pc = pd.DataFrame(principal_components)\n",
    "pc['label'] = y_kmeans\n",
    "pc.columns = ['x', 'y','label']\n",
    "\n",
    "#plot data with seaborn\n",
    "cluster = sns.lmplot(data=pc, x='x', y='y', hue='label', \n",
    "                   fit_reg=False, legend=True, legend_out=True)"
   ]
  },
  {
   "cell_type": "code",
   "execution_count": 14,
   "metadata": {},
   "outputs": [
    {
     "data": {
      "text/plain": [
       "array([0.52522826, 0.19383837])"
      ]
     },
     "execution_count": 14,
     "metadata": {},
     "output_type": "execute_result"
    }
   ],
   "source": [
    "pca.explained_variance_ratio_"
   ]
  },
  {
   "cell_type": "code",
   "execution_count": 15,
   "metadata": {},
   "outputs": [
    {
     "data": {
      "text/plain": [
       "array([0.0922664 , 0.03405142])"
      ]
     },
     "execution_count": 15,
     "metadata": {},
     "output_type": "execute_result"
    }
   ],
   "source": [
    "pca.explained_variance_"
   ]
  },
  {
   "cell_type": "code",
   "execution_count": 16,
   "metadata": {},
   "outputs": [
    {
     "data": {
      "text/plain": [
       "2    570\n",
       "0    565\n",
       "3    411\n",
       "1    325\n",
       "4    123\n",
       "Name: label, dtype: int64"
      ]
     },
     "execution_count": 16,
     "metadata": {},
     "output_type": "execute_result"
    }
   ],
   "source": [
    "songs['label'] = y_kmeans\n",
    "\n",
    "# shuffle dataset\n",
    "\n",
    "songs = songs.sample(frac=1)\n",
    "songs['label'].value_counts()"
   ]
  },
  {
   "cell_type": "code",
   "execution_count": 17,
   "metadata": {},
   "outputs": [
    {
     "data": {
      "text/html": [
       "<div>\n",
       "<style scoped>\n",
       "    .dataframe tbody tr th:only-of-type {\n",
       "        vertical-align: middle;\n",
       "    }\n",
       "\n",
       "    .dataframe tbody tr th {\n",
       "        vertical-align: top;\n",
       "    }\n",
       "\n",
       "    .dataframe thead th {\n",
       "        text-align: right;\n",
       "    }\n",
       "</style>\n",
       "<table border=\"1\" class=\"dataframe\">\n",
       "  <thead>\n",
       "    <tr style=\"text-align: right;\">\n",
       "      <th></th>\n",
       "      <th>Title</th>\n",
       "      <th>Artist</th>\n",
       "      <th>Danceability</th>\n",
       "      <th>Loudness (dB)</th>\n",
       "      <th>Speechiness</th>\n",
       "      <th>Acousticness</th>\n",
       "      <th>Liveness</th>\n",
       "      <th>label</th>\n",
       "    </tr>\n",
       "  </thead>\n",
       "  <tbody>\n",
       "    <tr>\n",
       "      <th>681</th>\n",
       "      <td>Zoutelande - feat. Geike</td>\n",
       "      <td>BLØF</td>\n",
       "      <td>0.662791</td>\n",
       "      <td>0.80</td>\n",
       "      <td>0.018868</td>\n",
       "      <td>0.222222</td>\n",
       "      <td>0.123711</td>\n",
       "      <td>0</td>\n",
       "    </tr>\n",
       "    <tr>\n",
       "      <th>1365</th>\n",
       "      <td>Kiss</td>\n",
       "      <td>Prince</td>\n",
       "      <td>0.930233</td>\n",
       "      <td>0.60</td>\n",
       "      <td>0.132075</td>\n",
       "      <td>0.010101</td>\n",
       "      <td>0.030928</td>\n",
       "      <td>0</td>\n",
       "    </tr>\n",
       "    <tr>\n",
       "      <th>1148</th>\n",
       "      <td>Weekend</td>\n",
       "      <td>Earth &amp; Fire</td>\n",
       "      <td>0.895349</td>\n",
       "      <td>0.64</td>\n",
       "      <td>0.037736</td>\n",
       "      <td>0.373737</td>\n",
       "      <td>0.113402</td>\n",
       "      <td>0</td>\n",
       "    </tr>\n",
       "    <tr>\n",
       "      <th>1823</th>\n",
       "      <td>Smooth (feat. Rob Thomas)</td>\n",
       "      <td>Santana</td>\n",
       "      <td>0.593023</td>\n",
       "      <td>0.92</td>\n",
       "      <td>0.018868</td>\n",
       "      <td>0.161616</td>\n",
       "      <td>0.288660</td>\n",
       "      <td>0</td>\n",
       "    </tr>\n",
       "    <tr>\n",
       "      <th>1377</th>\n",
       "      <td>Walk This Way (feat. Aerosmith)</td>\n",
       "      <td>Run–D.M.C.</td>\n",
       "      <td>0.767442</td>\n",
       "      <td>0.56</td>\n",
       "      <td>0.056604</td>\n",
       "      <td>0.010101</td>\n",
       "      <td>0.041237</td>\n",
       "      <td>0</td>\n",
       "    </tr>\n",
       "    <tr>\n",
       "      <th>399</th>\n",
       "      <td>Changes</td>\n",
       "      <td>2Pac</td>\n",
       "      <td>0.895349</td>\n",
       "      <td>0.80</td>\n",
       "      <td>0.113208</td>\n",
       "      <td>0.040404</td>\n",
       "      <td>0.123711</td>\n",
       "      <td>0</td>\n",
       "    </tr>\n",
       "    <tr>\n",
       "      <th>524</th>\n",
       "      <td>Do I Wanna Know?</td>\n",
       "      <td>Arctic Monkeys</td>\n",
       "      <td>0.523256</td>\n",
       "      <td>0.76</td>\n",
       "      <td>0.018868</td>\n",
       "      <td>0.191919</td>\n",
       "      <td>0.206186</td>\n",
       "      <td>0</td>\n",
       "    </tr>\n",
       "    <tr>\n",
       "      <th>920</th>\n",
       "      <td>La Grange - 2005 Remaster</td>\n",
       "      <td>ZZ Top</td>\n",
       "      <td>0.523256</td>\n",
       "      <td>0.68</td>\n",
       "      <td>0.377358</td>\n",
       "      <td>0.000000</td>\n",
       "      <td>0.185567</td>\n",
       "      <td>0</td>\n",
       "    </tr>\n",
       "    <tr>\n",
       "      <th>1841</th>\n",
       "      <td>Folsom Prison Blues</td>\n",
       "      <td>Johnny Cash</td>\n",
       "      <td>0.686047</td>\n",
       "      <td>0.68</td>\n",
       "      <td>0.018868</td>\n",
       "      <td>0.191919</td>\n",
       "      <td>0.268041</td>\n",
       "      <td>0</td>\n",
       "    </tr>\n",
       "    <tr>\n",
       "      <th>537</th>\n",
       "      <td>Pompeii</td>\n",
       "      <td>Bastille</td>\n",
       "      <td>0.674419</td>\n",
       "      <td>0.84</td>\n",
       "      <td>0.037736</td>\n",
       "      <td>0.080808</td>\n",
       "      <td>0.257732</td>\n",
       "      <td>0</td>\n",
       "    </tr>\n",
       "  </tbody>\n",
       "</table>\n",
       "</div>"
      ],
      "text/plain": [
       "                                Title          Artist  Danceability  \\\n",
       "681          Zoutelande - feat. Geike            BLØF      0.662791   \n",
       "1365                             Kiss          Prince      0.930233   \n",
       "1148                          Weekend    Earth & Fire      0.895349   \n",
       "1823        Smooth (feat. Rob Thomas)         Santana      0.593023   \n",
       "1377  Walk This Way (feat. Aerosmith)      Run–D.M.C.      0.767442   \n",
       "399                           Changes            2Pac      0.895349   \n",
       "524                  Do I Wanna Know?  Arctic Monkeys      0.523256   \n",
       "920         La Grange - 2005 Remaster          ZZ Top      0.523256   \n",
       "1841              Folsom Prison Blues     Johnny Cash      0.686047   \n",
       "537                           Pompeii        Bastille      0.674419   \n",
       "\n",
       "      Loudness (dB)  Speechiness  Acousticness  Liveness  label  \n",
       "681            0.80     0.018868      0.222222  0.123711      0  \n",
       "1365           0.60     0.132075      0.010101  0.030928      0  \n",
       "1148           0.64     0.037736      0.373737  0.113402      0  \n",
       "1823           0.92     0.018868      0.161616  0.288660      0  \n",
       "1377           0.56     0.056604      0.010101  0.041237      0  \n",
       "399            0.80     0.113208      0.040404  0.123711      0  \n",
       "524            0.76     0.018868      0.191919  0.206186      0  \n",
       "920            0.68     0.377358      0.000000  0.185567      0  \n",
       "1841           0.68     0.018868      0.191919  0.268041      0  \n",
       "537            0.84     0.037736      0.080808  0.257732      0  "
      ]
     },
     "execution_count": 17,
     "metadata": {},
     "output_type": "execute_result"
    }
   ],
   "source": [
    "songs[songs['label'] == 0].tail(10)"
   ]
  },
  {
   "cell_type": "code",
   "execution_count": 18,
   "metadata": {},
   "outputs": [
    {
     "data": {
      "text/html": [
       "<div>\n",
       "<style scoped>\n",
       "    .dataframe tbody tr th:only-of-type {\n",
       "        vertical-align: middle;\n",
       "    }\n",
       "\n",
       "    .dataframe tbody tr th {\n",
       "        vertical-align: top;\n",
       "    }\n",
       "\n",
       "    .dataframe thead th {\n",
       "        text-align: right;\n",
       "    }\n",
       "</style>\n",
       "<table border=\"1\" class=\"dataframe\">\n",
       "  <thead>\n",
       "    <tr style=\"text-align: right;\">\n",
       "      <th></th>\n",
       "      <th>Title</th>\n",
       "      <th>Artist</th>\n",
       "      <th>Danceability</th>\n",
       "      <th>Loudness (dB)</th>\n",
       "      <th>Speechiness</th>\n",
       "      <th>Acousticness</th>\n",
       "      <th>Liveness</th>\n",
       "      <th>label</th>\n",
       "    </tr>\n",
       "  </thead>\n",
       "  <tbody>\n",
       "    <tr>\n",
       "      <th>50</th>\n",
       "      <td>Just Breathe</td>\n",
       "      <td>Pearl Jam</td>\n",
       "      <td>0.430233</td>\n",
       "      <td>0.64</td>\n",
       "      <td>0.018868</td>\n",
       "      <td>0.727273</td>\n",
       "      <td>0.061856</td>\n",
       "      <td>1</td>\n",
       "    </tr>\n",
       "    <tr>\n",
       "      <th>853</th>\n",
       "      <td>American Pie</td>\n",
       "      <td>Don McLean</td>\n",
       "      <td>0.500000</td>\n",
       "      <td>0.60</td>\n",
       "      <td>0.075472</td>\n",
       "      <td>0.707071</td>\n",
       "      <td>0.061856</td>\n",
       "      <td>1</td>\n",
       "    </tr>\n",
       "    <tr>\n",
       "      <th>1115</th>\n",
       "      <td>The Rose</td>\n",
       "      <td>Bette Midler</td>\n",
       "      <td>0.290698</td>\n",
       "      <td>0.68</td>\n",
       "      <td>0.018868</td>\n",
       "      <td>0.909091</td>\n",
       "      <td>0.371134</td>\n",
       "      <td>1</td>\n",
       "    </tr>\n",
       "    <tr>\n",
       "      <th>470</th>\n",
       "      <td>Skinny Love</td>\n",
       "      <td>Birdy</td>\n",
       "      <td>0.325581</td>\n",
       "      <td>0.76</td>\n",
       "      <td>0.056604</td>\n",
       "      <td>0.959596</td>\n",
       "      <td>0.103093</td>\n",
       "      <td>1</td>\n",
       "    </tr>\n",
       "    <tr>\n",
       "      <th>971</th>\n",
       "      <td>Landslide</td>\n",
       "      <td>Fleetwood Mac</td>\n",
       "      <td>0.360465</td>\n",
       "      <td>0.20</td>\n",
       "      <td>0.018868</td>\n",
       "      <td>0.888889</td>\n",
       "      <td>0.103093</td>\n",
       "      <td>1</td>\n",
       "    </tr>\n",
       "    <tr>\n",
       "      <th>1799</th>\n",
       "      <td>Tears in Heaven</td>\n",
       "      <td>Eric Clapton</td>\n",
       "      <td>0.465116</td>\n",
       "      <td>0.60</td>\n",
       "      <td>0.018868</td>\n",
       "      <td>0.848485</td>\n",
       "      <td>0.113402</td>\n",
       "      <td>1</td>\n",
       "    </tr>\n",
       "    <tr>\n",
       "      <th>1848</th>\n",
       "      <td>Yesterday - Remastered 2009</td>\n",
       "      <td>The Beatles</td>\n",
       "      <td>0.267442</td>\n",
       "      <td>0.60</td>\n",
       "      <td>0.018868</td>\n",
       "      <td>0.888889</td>\n",
       "      <td>0.072165</td>\n",
       "      <td>1</td>\n",
       "    </tr>\n",
       "    <tr>\n",
       "      <th>902</th>\n",
       "      <td>Harvest - 2009 Remaster</td>\n",
       "      <td>Neil Young</td>\n",
       "      <td>0.511628</td>\n",
       "      <td>0.36</td>\n",
       "      <td>0.037736</td>\n",
       "      <td>0.747475</td>\n",
       "      <td>0.092784</td>\n",
       "      <td>1</td>\n",
       "    </tr>\n",
       "    <tr>\n",
       "      <th>407</th>\n",
       "      <td>Don't Give up the Fight</td>\n",
       "      <td>Racoon</td>\n",
       "      <td>0.209302</td>\n",
       "      <td>0.56</td>\n",
       "      <td>0.018868</td>\n",
       "      <td>0.888889</td>\n",
       "      <td>0.103093</td>\n",
       "      <td>1</td>\n",
       "    </tr>\n",
       "    <tr>\n",
       "      <th>1890</th>\n",
       "      <td>Suzanne</td>\n",
       "      <td>Leonard Cohen</td>\n",
       "      <td>0.360465</td>\n",
       "      <td>0.44</td>\n",
       "      <td>0.037736</td>\n",
       "      <td>0.929293</td>\n",
       "      <td>0.092784</td>\n",
       "      <td>1</td>\n",
       "    </tr>\n",
       "  </tbody>\n",
       "</table>\n",
       "</div>"
      ],
      "text/plain": [
       "                            Title         Artist  Danceability  Loudness (dB)  \\\n",
       "50                   Just Breathe      Pearl Jam      0.430233           0.64   \n",
       "853                  American Pie     Don McLean      0.500000           0.60   \n",
       "1115                     The Rose   Bette Midler      0.290698           0.68   \n",
       "470                   Skinny Love          Birdy      0.325581           0.76   \n",
       "971                     Landslide  Fleetwood Mac      0.360465           0.20   \n",
       "1799              Tears in Heaven   Eric Clapton      0.465116           0.60   \n",
       "1848  Yesterday - Remastered 2009    The Beatles      0.267442           0.60   \n",
       "902       Harvest - 2009 Remaster     Neil Young      0.511628           0.36   \n",
       "407       Don't Give up the Fight         Racoon      0.209302           0.56   \n",
       "1890                      Suzanne  Leonard Cohen      0.360465           0.44   \n",
       "\n",
       "      Speechiness  Acousticness  Liveness  label  \n",
       "50       0.018868      0.727273  0.061856      1  \n",
       "853      0.075472      0.707071  0.061856      1  \n",
       "1115     0.018868      0.909091  0.371134      1  \n",
       "470      0.056604      0.959596  0.103093      1  \n",
       "971      0.018868      0.888889  0.103093      1  \n",
       "1799     0.018868      0.848485  0.113402      1  \n",
       "1848     0.018868      0.888889  0.072165      1  \n",
       "902      0.037736      0.747475  0.092784      1  \n",
       "407      0.018868      0.888889  0.103093      1  \n",
       "1890     0.037736      0.929293  0.092784      1  "
      ]
     },
     "execution_count": 18,
     "metadata": {},
     "output_type": "execute_result"
    }
   ],
   "source": [
    "songs[songs['label'] == 1].tail(10)"
   ]
  },
  {
   "cell_type": "code",
   "execution_count": 19,
   "metadata": {},
   "outputs": [
    {
     "data": {
      "text/html": [
       "<div>\n",
       "<style scoped>\n",
       "    .dataframe tbody tr th:only-of-type {\n",
       "        vertical-align: middle;\n",
       "    }\n",
       "\n",
       "    .dataframe tbody tr th {\n",
       "        vertical-align: top;\n",
       "    }\n",
       "\n",
       "    .dataframe thead th {\n",
       "        text-align: right;\n",
       "    }\n",
       "</style>\n",
       "<table border=\"1\" class=\"dataframe\">\n",
       "  <thead>\n",
       "    <tr style=\"text-align: right;\">\n",
       "      <th></th>\n",
       "      <th>Title</th>\n",
       "      <th>Artist</th>\n",
       "      <th>Danceability</th>\n",
       "      <th>Loudness (dB)</th>\n",
       "      <th>Speechiness</th>\n",
       "      <th>Acousticness</th>\n",
       "      <th>Liveness</th>\n",
       "      <th>label</th>\n",
       "    </tr>\n",
       "  </thead>\n",
       "  <tbody>\n",
       "    <tr>\n",
       "      <th>992</th>\n",
       "      <td>Take It to the Limit - 2013 Remaster</td>\n",
       "      <td>Eagles</td>\n",
       "      <td>0.395349</td>\n",
       "      <td>0.72</td>\n",
       "      <td>0.000000</td>\n",
       "      <td>0.090909</td>\n",
       "      <td>0.113402</td>\n",
       "      <td>2</td>\n",
       "    </tr>\n",
       "    <tr>\n",
       "      <th>443</th>\n",
       "      <td>Walk</td>\n",
       "      <td>Foo Fighters</td>\n",
       "      <td>0.151163</td>\n",
       "      <td>0.88</td>\n",
       "      <td>0.056604</td>\n",
       "      <td>0.000000</td>\n",
       "      <td>0.278351</td>\n",
       "      <td>2</td>\n",
       "    </tr>\n",
       "    <tr>\n",
       "      <th>313</th>\n",
       "      <td>We Can Work It Out - Remastered 2015</td>\n",
       "      <td>The Beatles</td>\n",
       "      <td>0.325581</td>\n",
       "      <td>0.72</td>\n",
       "      <td>0.018868</td>\n",
       "      <td>0.060606</td>\n",
       "      <td>0.164948</td>\n",
       "      <td>2</td>\n",
       "    </tr>\n",
       "    <tr>\n",
       "      <th>1213</th>\n",
       "      <td>Rosanna</td>\n",
       "      <td>TOTO</td>\n",
       "      <td>0.325581</td>\n",
       "      <td>0.56</td>\n",
       "      <td>0.037736</td>\n",
       "      <td>0.020202</td>\n",
       "      <td>0.195876</td>\n",
       "      <td>2</td>\n",
       "    </tr>\n",
       "    <tr>\n",
       "      <th>574</th>\n",
       "      <td>Riddles</td>\n",
       "      <td>Kensington</td>\n",
       "      <td>0.453488</td>\n",
       "      <td>0.76</td>\n",
       "      <td>0.037736</td>\n",
       "      <td>0.040404</td>\n",
       "      <td>0.061856</td>\n",
       "      <td>2</td>\n",
       "    </tr>\n",
       "    <tr>\n",
       "      <th>1688</th>\n",
       "      <td>Tonight, Tonight - Remastered 2012</td>\n",
       "      <td>The Smashing Pumpkins</td>\n",
       "      <td>0.220930</td>\n",
       "      <td>0.72</td>\n",
       "      <td>0.037736</td>\n",
       "      <td>0.000000</td>\n",
       "      <td>0.226804</td>\n",
       "      <td>2</td>\n",
       "    </tr>\n",
       "    <tr>\n",
       "      <th>833</th>\n",
       "      <td>Carry On</td>\n",
       "      <td>Crosby, Stills, Nash &amp; Young</td>\n",
       "      <td>0.418605</td>\n",
       "      <td>0.60</td>\n",
       "      <td>0.037736</td>\n",
       "      <td>0.060606</td>\n",
       "      <td>0.257732</td>\n",
       "      <td>2</td>\n",
       "    </tr>\n",
       "    <tr>\n",
       "      <th>511</th>\n",
       "      <td>Hopeless Wanderer</td>\n",
       "      <td>Mumford &amp; Sons</td>\n",
       "      <td>0.197674</td>\n",
       "      <td>0.76</td>\n",
       "      <td>0.037736</td>\n",
       "      <td>0.010101</td>\n",
       "      <td>0.092784</td>\n",
       "      <td>2</td>\n",
       "    </tr>\n",
       "    <tr>\n",
       "      <th>1529</th>\n",
       "      <td>Jeremy</td>\n",
       "      <td>Pearl Jam</td>\n",
       "      <td>0.209302</td>\n",
       "      <td>0.84</td>\n",
       "      <td>0.037736</td>\n",
       "      <td>0.040404</td>\n",
       "      <td>0.164948</td>\n",
       "      <td>2</td>\n",
       "    </tr>\n",
       "    <tr>\n",
       "      <th>758</th>\n",
       "      <td>N Vriend</td>\n",
       "      <td>Andre Hazes</td>\n",
       "      <td>0.151163</td>\n",
       "      <td>0.80</td>\n",
       "      <td>0.018868</td>\n",
       "      <td>0.080808</td>\n",
       "      <td>0.072165</td>\n",
       "      <td>2</td>\n",
       "    </tr>\n",
       "  </tbody>\n",
       "</table>\n",
       "</div>"
      ],
      "text/plain": [
       "                                     Title                        Artist  \\\n",
       "992   Take It to the Limit - 2013 Remaster                        Eagles   \n",
       "443                                   Walk                  Foo Fighters   \n",
       "313   We Can Work It Out - Remastered 2015                   The Beatles   \n",
       "1213                               Rosanna                          TOTO   \n",
       "574                                Riddles                    Kensington   \n",
       "1688    Tonight, Tonight - Remastered 2012         The Smashing Pumpkins   \n",
       "833                               Carry On  Crosby, Stills, Nash & Young   \n",
       "511                      Hopeless Wanderer                Mumford & Sons   \n",
       "1529                                Jeremy                     Pearl Jam   \n",
       "758                               N Vriend                   Andre Hazes   \n",
       "\n",
       "      Danceability  Loudness (dB)  Speechiness  Acousticness  Liveness  label  \n",
       "992       0.395349           0.72     0.000000      0.090909  0.113402      2  \n",
       "443       0.151163           0.88     0.056604      0.000000  0.278351      2  \n",
       "313       0.325581           0.72     0.018868      0.060606  0.164948      2  \n",
       "1213      0.325581           0.56     0.037736      0.020202  0.195876      2  \n",
       "574       0.453488           0.76     0.037736      0.040404  0.061856      2  \n",
       "1688      0.220930           0.72     0.037736      0.000000  0.226804      2  \n",
       "833       0.418605           0.60     0.037736      0.060606  0.257732      2  \n",
       "511       0.197674           0.76     0.037736      0.010101  0.092784      2  \n",
       "1529      0.209302           0.84     0.037736      0.040404  0.164948      2  \n",
       "758       0.151163           0.80     0.018868      0.080808  0.072165      2  "
      ]
     },
     "execution_count": 19,
     "metadata": {},
     "output_type": "execute_result"
    }
   ],
   "source": [
    "songs[songs['label'] == 2].tail(10)"
   ]
  },
  {
   "cell_type": "code",
   "execution_count": 20,
   "metadata": {},
   "outputs": [
    {
     "data": {
      "text/html": [
       "<div>\n",
       "<style scoped>\n",
       "    .dataframe tbody tr th:only-of-type {\n",
       "        vertical-align: middle;\n",
       "    }\n",
       "\n",
       "    .dataframe tbody tr th {\n",
       "        vertical-align: top;\n",
       "    }\n",
       "\n",
       "    .dataframe thead th {\n",
       "        text-align: right;\n",
       "    }\n",
       "</style>\n",
       "<table border=\"1\" class=\"dataframe\">\n",
       "  <thead>\n",
       "    <tr style=\"text-align: right;\">\n",
       "      <th></th>\n",
       "      <th>Title</th>\n",
       "      <th>Artist</th>\n",
       "      <th>Danceability</th>\n",
       "      <th>Loudness (dB)</th>\n",
       "      <th>Speechiness</th>\n",
       "      <th>Acousticness</th>\n",
       "      <th>Liveness</th>\n",
       "      <th>label</th>\n",
       "    </tr>\n",
       "  </thead>\n",
       "  <tbody>\n",
       "    <tr>\n",
       "      <th>726</th>\n",
       "      <td>Shallow</td>\n",
       "      <td>Lady Gaga</td>\n",
       "      <td>0.546512</td>\n",
       "      <td>0.84</td>\n",
       "      <td>0.018868</td>\n",
       "      <td>0.373737</td>\n",
       "      <td>0.216495</td>\n",
       "      <td>3</td>\n",
       "    </tr>\n",
       "    <tr>\n",
       "      <th>1166</th>\n",
       "      <td>The Turn of a Friendly Card</td>\n",
       "      <td>The Alan Parsons Project</td>\n",
       "      <td>0.325581</td>\n",
       "      <td>0.48</td>\n",
       "      <td>0.037736</td>\n",
       "      <td>0.525253</td>\n",
       "      <td>0.061856</td>\n",
       "      <td>3</td>\n",
       "    </tr>\n",
       "    <tr>\n",
       "      <th>1906</th>\n",
       "      <td>When I'm Sixty Four - Remastered 2009</td>\n",
       "      <td>The Beatles</td>\n",
       "      <td>0.697674</td>\n",
       "      <td>0.56</td>\n",
       "      <td>0.056604</td>\n",
       "      <td>0.636364</td>\n",
       "      <td>0.072165</td>\n",
       "      <td>3</td>\n",
       "    </tr>\n",
       "    <tr>\n",
       "      <th>653</th>\n",
       "      <td>When We Were Young</td>\n",
       "      <td>Adele</td>\n",
       "      <td>0.325581</td>\n",
       "      <td>0.84</td>\n",
       "      <td>0.056604</td>\n",
       "      <td>0.353535</td>\n",
       "      <td>0.072165</td>\n",
       "      <td>3</td>\n",
       "    </tr>\n",
       "    <tr>\n",
       "      <th>19</th>\n",
       "      <td>Cry Me a River</td>\n",
       "      <td>Justin Timberlake</td>\n",
       "      <td>0.604651</td>\n",
       "      <td>0.80</td>\n",
       "      <td>0.301887</td>\n",
       "      <td>0.575758</td>\n",
       "      <td>0.082474</td>\n",
       "      <td>3</td>\n",
       "    </tr>\n",
       "    <tr>\n",
       "      <th>35</th>\n",
       "      <td>The Eyes of Jenny</td>\n",
       "      <td>Sandy Coast</td>\n",
       "      <td>0.674419</td>\n",
       "      <td>0.60</td>\n",
       "      <td>0.037736</td>\n",
       "      <td>0.343434</td>\n",
       "      <td>0.061856</td>\n",
       "      <td>3</td>\n",
       "    </tr>\n",
       "    <tr>\n",
       "      <th>827</th>\n",
       "      <td>Fire and Rain</td>\n",
       "      <td>James Taylor</td>\n",
       "      <td>0.593023</td>\n",
       "      <td>0.52</td>\n",
       "      <td>0.037736</td>\n",
       "      <td>0.505051</td>\n",
       "      <td>0.061856</td>\n",
       "      <td>3</td>\n",
       "    </tr>\n",
       "    <tr>\n",
       "      <th>1705</th>\n",
       "      <td>Wereld Zonder Jou</td>\n",
       "      <td>Marco Borsato</td>\n",
       "      <td>0.546512</td>\n",
       "      <td>0.68</td>\n",
       "      <td>0.018868</td>\n",
       "      <td>0.515152</td>\n",
       "      <td>0.154639</td>\n",
       "      <td>3</td>\n",
       "    </tr>\n",
       "    <tr>\n",
       "      <th>1500</th>\n",
       "      <td>Wind Of Change</td>\n",
       "      <td>Scorpions</td>\n",
       "      <td>0.406977</td>\n",
       "      <td>0.68</td>\n",
       "      <td>0.037736</td>\n",
       "      <td>0.323232</td>\n",
       "      <td>0.082474</td>\n",
       "      <td>3</td>\n",
       "    </tr>\n",
       "    <tr>\n",
       "      <th>1199</th>\n",
       "      <td>Memory</td>\n",
       "      <td>Barbra Streisand</td>\n",
       "      <td>0.093023</td>\n",
       "      <td>0.48</td>\n",
       "      <td>0.037736</td>\n",
       "      <td>0.424242</td>\n",
       "      <td>0.092784</td>\n",
       "      <td>3</td>\n",
       "    </tr>\n",
       "  </tbody>\n",
       "</table>\n",
       "</div>"
      ],
      "text/plain": [
       "                                      Title                    Artist  \\\n",
       "726                                 Shallow                 Lady Gaga   \n",
       "1166            The Turn of a Friendly Card  The Alan Parsons Project   \n",
       "1906  When I'm Sixty Four - Remastered 2009               The Beatles   \n",
       "653                      When We Were Young                     Adele   \n",
       "19                           Cry Me a River         Justin Timberlake   \n",
       "35                        The Eyes of Jenny               Sandy Coast   \n",
       "827                           Fire and Rain              James Taylor   \n",
       "1705                      Wereld Zonder Jou             Marco Borsato   \n",
       "1500                         Wind Of Change                 Scorpions   \n",
       "1199                                 Memory          Barbra Streisand   \n",
       "\n",
       "      Danceability  Loudness (dB)  Speechiness  Acousticness  Liveness  label  \n",
       "726       0.546512           0.84     0.018868      0.373737  0.216495      3  \n",
       "1166      0.325581           0.48     0.037736      0.525253  0.061856      3  \n",
       "1906      0.697674           0.56     0.056604      0.636364  0.072165      3  \n",
       "653       0.325581           0.84     0.056604      0.353535  0.072165      3  \n",
       "19        0.604651           0.80     0.301887      0.575758  0.082474      3  \n",
       "35        0.674419           0.60     0.037736      0.343434  0.061856      3  \n",
       "827       0.593023           0.52     0.037736      0.505051  0.061856      3  \n",
       "1705      0.546512           0.68     0.018868      0.515152  0.154639      3  \n",
       "1500      0.406977           0.68     0.037736      0.323232  0.082474      3  \n",
       "1199      0.093023           0.48     0.037736      0.424242  0.092784      3  "
      ]
     },
     "execution_count": 20,
     "metadata": {},
     "output_type": "execute_result"
    }
   ],
   "source": [
    "songs[songs['label'] == 3].tail(10)"
   ]
  },
  {
   "cell_type": "code",
   "execution_count": 21,
   "metadata": {},
   "outputs": [
    {
     "data": {
      "text/html": [
       "<div>\n",
       "<style scoped>\n",
       "    .dataframe tbody tr th:only-of-type {\n",
       "        vertical-align: middle;\n",
       "    }\n",
       "\n",
       "    .dataframe tbody tr th {\n",
       "        vertical-align: top;\n",
       "    }\n",
       "\n",
       "    .dataframe thead th {\n",
       "        text-align: right;\n",
       "    }\n",
       "</style>\n",
       "<table border=\"1\" class=\"dataframe\">\n",
       "  <thead>\n",
       "    <tr style=\"text-align: right;\">\n",
       "      <th></th>\n",
       "      <th>Title</th>\n",
       "      <th>Artist</th>\n",
       "      <th>Danceability</th>\n",
       "      <th>Loudness (dB)</th>\n",
       "      <th>Speechiness</th>\n",
       "      <th>Acousticness</th>\n",
       "      <th>Liveness</th>\n",
       "      <th>label</th>\n",
       "    </tr>\n",
       "  </thead>\n",
       "  <tbody>\n",
       "    <tr>\n",
       "      <th>633</th>\n",
       "      <td>Oxygene, Pt. 4</td>\n",
       "      <td>Jean-Michel Jarre</td>\n",
       "      <td>0.383721</td>\n",
       "      <td>0.76</td>\n",
       "      <td>0.037736</td>\n",
       "      <td>0.020202</td>\n",
       "      <td>0.546392</td>\n",
       "      <td>4</td>\n",
       "    </tr>\n",
       "    <tr>\n",
       "      <th>790</th>\n",
       "      <td>About A Girl - Live Version</td>\n",
       "      <td>Nirvana</td>\n",
       "      <td>0.593023</td>\n",
       "      <td>0.72</td>\n",
       "      <td>0.094340</td>\n",
       "      <td>0.141414</td>\n",
       "      <td>0.731959</td>\n",
       "      <td>4</td>\n",
       "    </tr>\n",
       "    <tr>\n",
       "      <th>1369</th>\n",
       "      <td>Bigmouth Strikes Again - 2011 Remaster</td>\n",
       "      <td>The Smiths</td>\n",
       "      <td>0.348837</td>\n",
       "      <td>0.88</td>\n",
       "      <td>0.037736</td>\n",
       "      <td>0.070707</td>\n",
       "      <td>0.536082</td>\n",
       "      <td>4</td>\n",
       "    </tr>\n",
       "    <tr>\n",
       "      <th>46</th>\n",
       "      <td>Sweet Jane</td>\n",
       "      <td>Lou Reed</td>\n",
       "      <td>0.848837</td>\n",
       "      <td>0.68</td>\n",
       "      <td>0.075472</td>\n",
       "      <td>0.484848</td>\n",
       "      <td>0.701031</td>\n",
       "      <td>4</td>\n",
       "    </tr>\n",
       "    <tr>\n",
       "      <th>1373</th>\n",
       "      <td>Fire - Live at the Winterland, San Francisco, ...</td>\n",
       "      <td>Bruce Springsteen</td>\n",
       "      <td>0.383721</td>\n",
       "      <td>0.24</td>\n",
       "      <td>0.283019</td>\n",
       "      <td>0.202020</td>\n",
       "      <td>0.989691</td>\n",
       "      <td>4</td>\n",
       "    </tr>\n",
       "    <tr>\n",
       "      <th>1077</th>\n",
       "      <td>Isn't It Time</td>\n",
       "      <td>The Babys</td>\n",
       "      <td>0.488372</td>\n",
       "      <td>0.80</td>\n",
       "      <td>0.150943</td>\n",
       "      <td>0.393939</td>\n",
       "      <td>0.824742</td>\n",
       "      <td>4</td>\n",
       "    </tr>\n",
       "    <tr>\n",
       "      <th>569</th>\n",
       "      <td>Born Slippy (Nuxx)</td>\n",
       "      <td>Underworld</td>\n",
       "      <td>0.558140</td>\n",
       "      <td>0.72</td>\n",
       "      <td>0.037736</td>\n",
       "      <td>0.000000</td>\n",
       "      <td>0.463918</td>\n",
       "      <td>4</td>\n",
       "    </tr>\n",
       "    <tr>\n",
       "      <th>320</th>\n",
       "      <td>Geef Mij Je Angst</td>\n",
       "      <td>Guus Meeuwis</td>\n",
       "      <td>0.313953</td>\n",
       "      <td>0.64</td>\n",
       "      <td>0.056604</td>\n",
       "      <td>0.757576</td>\n",
       "      <td>0.979381</td>\n",
       "      <td>4</td>\n",
       "    </tr>\n",
       "    <tr>\n",
       "      <th>684</th>\n",
       "      <td>Thriller</td>\n",
       "      <td>Michael Jackson</td>\n",
       "      <td>0.767442</td>\n",
       "      <td>0.92</td>\n",
       "      <td>0.094340</td>\n",
       "      <td>0.080808</td>\n",
       "      <td>0.855670</td>\n",
       "      <td>4</td>\n",
       "    </tr>\n",
       "    <tr>\n",
       "      <th>1062</th>\n",
       "      <td>You Took The Words Right Out of My Mouth (Hot ...</td>\n",
       "      <td>Meat Loaf</td>\n",
       "      <td>0.418605</td>\n",
       "      <td>0.72</td>\n",
       "      <td>0.113208</td>\n",
       "      <td>0.252525</td>\n",
       "      <td>0.494845</td>\n",
       "      <td>4</td>\n",
       "    </tr>\n",
       "  </tbody>\n",
       "</table>\n",
       "</div>"
      ],
      "text/plain": [
       "                                                  Title             Artist  \\\n",
       "633                                      Oxygene, Pt. 4  Jean-Michel Jarre   \n",
       "790                         About A Girl - Live Version            Nirvana   \n",
       "1369             Bigmouth Strikes Again - 2011 Remaster         The Smiths   \n",
       "46                                           Sweet Jane           Lou Reed   \n",
       "1373  Fire - Live at the Winterland, San Francisco, ...  Bruce Springsteen   \n",
       "1077                                      Isn't It Time          The Babys   \n",
       "569                                  Born Slippy (Nuxx)         Underworld   \n",
       "320                                   Geef Mij Je Angst       Guus Meeuwis   \n",
       "684                                            Thriller    Michael Jackson   \n",
       "1062  You Took The Words Right Out of My Mouth (Hot ...          Meat Loaf   \n",
       "\n",
       "      Danceability  Loudness (dB)  Speechiness  Acousticness  Liveness  label  \n",
       "633       0.383721           0.76     0.037736      0.020202  0.546392      4  \n",
       "790       0.593023           0.72     0.094340      0.141414  0.731959      4  \n",
       "1369      0.348837           0.88     0.037736      0.070707  0.536082      4  \n",
       "46        0.848837           0.68     0.075472      0.484848  0.701031      4  \n",
       "1373      0.383721           0.24     0.283019      0.202020  0.989691      4  \n",
       "1077      0.488372           0.80     0.150943      0.393939  0.824742      4  \n",
       "569       0.558140           0.72     0.037736      0.000000  0.463918      4  \n",
       "320       0.313953           0.64     0.056604      0.757576  0.979381      4  \n",
       "684       0.767442           0.92     0.094340      0.080808  0.855670      4  \n",
       "1062      0.418605           0.72     0.113208      0.252525  0.494845      4  "
      ]
     },
     "execution_count": 21,
     "metadata": {},
     "output_type": "execute_result"
    }
   ],
   "source": [
    "songs[songs['label'] == 4].tail(10)"
   ]
  },
  {
   "cell_type": "code",
   "execution_count": 22,
   "metadata": {},
   "outputs": [
    {
     "data": {
      "text/plain": [
       "Danceability     0.668944\n",
       "Loudness (dB)    0.740602\n",
       "Speechiness      0.067490\n",
       "Acousticness     0.102065\n",
       "Liveness         0.124551\n",
       "label            0.000000\n",
       "dtype: float64"
      ]
     },
     "execution_count": 22,
     "metadata": {},
     "output_type": "execute_result"
    }
   ],
   "source": [
    "songs[songs['label']==0].mean()"
   ]
  },
  {
   "cell_type": "code",
   "execution_count": 23,
   "metadata": {},
   "outputs": [
    {
     "data": {
      "text/plain": [
       "Danceability     0.415778\n",
       "Loudness (dB)    0.575508\n",
       "Speechiness      0.040813\n",
       "Acousticness     0.803326\n",
       "Liveness         0.143410\n",
       "label            1.000000\n",
       "dtype: float64"
      ]
     },
     "execution_count": 23,
     "metadata": {},
     "output_type": "execute_result"
    }
   ],
   "source": [
    "songs[songs['label']==1].mean()"
   ]
  },
  {
   "cell_type": "code",
   "execution_count": 24,
   "metadata": {},
   "outputs": [
    {
     "data": {
      "text/plain": [
       "Danceability     0.376377\n",
       "Loudness (dB)    0.784281\n",
       "Speechiness      0.055081\n",
       "Acousticness     0.070494\n",
       "Liveness         0.161331\n",
       "label            2.000000\n",
       "dtype: float64"
      ]
     },
     "execution_count": 24,
     "metadata": {},
     "output_type": "execute_result"
    }
   ],
   "source": [
    "songs[songs['label']==2].mean()"
   ]
  },
  {
   "cell_type": "code",
   "execution_count": 25,
   "metadata": {},
   "outputs": [
    {
     "data": {
      "text/plain": [
       "Danceability     0.525661\n",
       "Loudness (dB)    0.702579\n",
       "Speechiness      0.045953\n",
       "Acousticness     0.474502\n",
       "Liveness         0.133143\n",
       "label            3.000000\n",
       "dtype: float64"
      ]
     },
     "execution_count": 25,
     "metadata": {},
     "output_type": "execute_result"
    }
   ],
   "source": [
    "songs[songs['label']==3].mean()"
   ]
  },
  {
   "cell_type": "code",
   "execution_count": 26,
   "metadata": {},
   "outputs": [
    {
     "data": {
      "text/plain": [
       "Danceability     0.478540\n",
       "Loudness (dB)    0.761951\n",
       "Speechiness      0.089431\n",
       "Acousticness     0.221894\n",
       "Liveness         0.699606\n",
       "label            4.000000\n",
       "dtype: float64"
      ]
     },
     "execution_count": 26,
     "metadata": {},
     "output_type": "execute_result"
    }
   ],
   "source": [
    "songs[songs['label']==4].mean()"
   ]
  },
  {
   "cell_type": "code",
   "execution_count": 27,
   "metadata": {},
   "outputs": [],
   "source": [
    "from sklearn.model_selection import train_test_split\n",
    "\n",
    "X = songs_features\n",
    "y = y_kmeans\n",
    "\n",
    "X_train, X_test, y_train, y_test = train_test_split(X, y, test_size=0.33)\n",
    "\n",
    "from sklearn.ensemble import RandomForestClassifier\n",
    "from sklearn.metrics import classification_report, confusion_matrix\n",
    "\n",
    "rfc = RandomForestClassifier(n_estimators=100,criterion='gini')\n",
    "rfc.fit(X_train,y_train)\n",
    "# Predicting the Test set results\n",
    "y_pred = rfc.predict(X_test)"
   ]
  },
  {
   "cell_type": "code",
   "execution_count": 28,
   "metadata": {},
   "outputs": [],
   "source": [
    "def plot_confusion_matrix(y_true, y_pred, classes,\n",
    "                          normalize=False,\n",
    "                          title=None,\n",
    "                          cmap=plt.cm.Blues):\n",
    "    \"\"\"\n",
    "    This function prints and plots the confusion matrix.\n",
    "    Normalization can be applied by setting `normalize=True`.\n",
    "    \"\"\"\n",
    "    if not title:\n",
    "        if normalize:\n",
    "            title = 'Normalized confusion matrix'\n",
    "        else:\n",
    "            title = 'Confusion matrix'\n",
    "\n",
    "    # Compute confusion matrix\n",
    "    cm = confusion_matrix(y_true, y_pred)\n",
    "    # Only use the labels that appear in the data\n",
    "    if normalize:\n",
    "        cm = cm.astype('float') / cm.sum(axis=1)[:, np.newaxis]\n",
    "        print(\"Normalized confusion matrix\")\n",
    "    else:\n",
    "        print('Confusion matrix, without normalization')\n",
    "\n",
    "    print(cm)\n",
    "\n",
    "    fig, ax = plt.subplots()\n",
    "    im = ax.imshow(cm, interpolation='nearest', cmap=cmap)\n",
    "    ax.figure.colorbar(im, ax=ax)\n",
    "    # We want to show all ticks...\n",
    "    ax.set(xticks=np.arange(cm.shape[1]),\n",
    "           yticks=np.arange(cm.shape[0]),\n",
    "           # ... and label them with the respective list entries\n",
    "           xticklabels=classes, yticklabels=classes,\n",
    "           title=title,\n",
    "           ylabel='True label',\n",
    "           xlabel='Predicted label')\n",
    "\n",
    "    # Rotate the tick labels and set their alignment.\n",
    "    plt.setp(ax.get_xticklabels(), rotation=45, ha=\"right\",\n",
    "             rotation_mode=\"anchor\")\n",
    "\n",
    "    # Loop over data dimensions and create text annotations.\n",
    "    fmt = '.2f' if normalize else 'd'\n",
    "    thresh = cm.max() / 2.\n",
    "    for i in range(cm.shape[0]):\n",
    "        for j in range(cm.shape[1]):\n",
    "            ax.text(j, i, format(cm[i, j], fmt),\n",
    "                    ha=\"center\", va=\"center\",\n",
    "                    color=\"white\" if cm[i, j] > thresh else \"black\")\n",
    "    fig.tight_layout()\n",
    "    return ax"
   ]
  },
  {
   "cell_type": "code",
   "execution_count": 29,
   "metadata": {},
   "outputs": [
    {
     "name": "stdout",
     "output_type": "stream",
     "text": [
      "Confusion matrix, without normalization\n",
      "[[180   0   6   4   1]\n",
      " [  0 109   0   5   0]\n",
      " [  3   0 197   1   0]\n",
      " [  0   3   2 117   0]\n",
      " [  0   0   0   0  31]]\n"
     ]
    },
    {
     "data": {
      "text/plain": [
       "<matplotlib.axes._subplots.AxesSubplot at 0x2371e4240d0>"
      ]
     },
     "execution_count": 29,
     "metadata": {},
     "output_type": "execute_result"
    },
    {
     "data": {
      "image/png": "[encoded data removed]",
      "text/plain": [
       "<Figure size 432x288 with 2 Axes>"
      ]
     },
     "metadata": {},
     "output_type": "display_data"
    }
   ],
   "source": [
    "# Confusion matrix\n",
    "definitions = ['Romantic' ,'Nostalgic' ,'Artsy' ,'Sad' ,'Chill']\n",
    "# reversefactor = dict(zip(range(4),definitions))\n",
    "# actual = np.vectorize(reversefactor.get)(y_test)\n",
    "# pred = np.vectorize(reversefactor.get)(y_pred)\n",
    "# print(pd.crosstab(actual, pred, rownames=['Actual Mood'], colnames=['Predicted Mood']))\n",
    "\n",
    "plot_confusion_matrix(y_test, y_pred, classes=definitions,\n",
    "                      title='Confusion matrix for Random Forest')"
   ]
  },
  {
   "cell_type": "code",
   "execution_count": 30,
   "metadata": {},
   "outputs": [
    {
     "data": {
      "text/plain": [
       "[('Danceability', 0.299422526677614),\n",
       " ('Loudness (dB)', 0.055149602997177395),\n",
       " ('Speechiness', 0.01726621997418035),\n",
       " ('Acousticness', 0.4786735056716972),\n",
       " ('Liveness', 0.14948814467933097)]"
      ]
     },
     "execution_count": 30,
     "metadata": {},
     "output_type": "execute_result"
    }
   ],
   "source": [
    "# View a list of the features and their importance scores\n",
    "features = songs_features.columns\n",
    "list(zip(songs_features[features], rfc.feature_importances_))"
   ]
  },
  {
   "cell_type": "code",
   "execution_count": 31,
   "metadata": {},
   "outputs": [],
   "source": [
    "#Import svm model\n",
    "from sklearn import svm\n",
    "#Create a svm Classifier\n",
    "svm = svm.SVC(kernel=\"linear\") \n",
    "\n",
    "#Train the model using the training sets\n",
    "svm.fit(X_train, y_train)\n",
    "\n",
    "#Predict the response for test dataset\n",
    "svm_pred = svm.predict(X_test)"
   ]
  },
  {
   "cell_type": "code",
   "execution_count": 32,
   "metadata": {},
   "outputs": [
    {
     "name": "stdout",
     "output_type": "stream",
     "text": [
      "Confusion matrix, without normalization\n",
      "[[188   0   2   1   0]\n",
      " [  0 113   0   1   0]\n",
      " [  2   0 194   5   0]\n",
      " [  0   0   0 122   0]\n",
      " [  0   0   1   0  30]]\n"
     ]
    },
    {
     "data": {
      "text/plain": [
       "<matplotlib.axes._subplots.AxesSubplot at 0x2371e4e6490>"
      ]
     },
     "execution_count": 32,
     "metadata": {},
     "output_type": "execute_result"
    },
    {
     "data": {
      "image/png": "[encoded data removed]",
      "text/plain": [
       "<Figure size 432x288 with 2 Axes>"
      ]
     },
     "metadata": {},
     "output_type": "display_data"
    }
   ],
   "source": [
    "plot_confusion_matrix(y_test, svm_pred, classes=definitions,\n",
    "                      title='Confusion matrix for SVM')"
   ]
  },
  {
   "cell_type": "code",
   "execution_count": 33,
   "metadata": {},
   "outputs": [
    {
     "name": "stdout",
     "output_type": "stream",
     "text": [
      "              precision    recall  f1-score   support\n",
      "\n",
      "    Romantic       0.99      0.98      0.99       191\n",
      "   Nostalgic       1.00      0.99      1.00       114\n",
      "       Artsy       0.98      0.97      0.97       201\n",
      "         Sad       0.95      1.00      0.97       122\n",
      "       Chill       1.00      0.97      0.98        31\n",
      "\n",
      "    accuracy                           0.98       659\n",
      "   macro avg       0.98      0.98      0.98       659\n",
      "weighted avg       0.98      0.98      0.98       659\n",
      "SVM\n"
     ]
    }
   ],
   "source": [
    "print(classification_report(y_test,svm_pred,target_names=definitions)+'SVM')"
   ]
  },
  {
   "cell_type": "code",
   "execution_count": 34,
   "metadata": {},
   "outputs": [
    {
     "name": "stdout",
     "output_type": "stream",
     "text": [
      "              precision    recall  f1-score   support\n",
      "\n",
      "    Romantic       0.98      0.94      0.96       191\n",
      "   Nostalgic       0.97      0.96      0.96       114\n",
      "       Artsy       0.96      0.98      0.97       201\n",
      "         Sad       0.92      0.96      0.94       122\n",
      "       Chill       0.97      1.00      0.98        31\n",
      "\n",
      "    accuracy                           0.96       659\n",
      "   macro avg       0.96      0.97      0.96       659\n",
      "weighted avg       0.96      0.96      0.96       659\n",
      "forest\n"
     ]
    }
   ],
   "source": [
    "print(classification_report(y_test,y_pred,target_names=definitions)+'forest')"
   ]
  },
  {
   "cell_type": "code",
   "execution_count": null,
   "metadata": {},
   "outputs": [],
   "source": []
  },
  {
   "cell_type": "code",
   "execution_count": null,
   "metadata": {},
   "outputs": [],
   "source": []
  },
  {
   "cell_type": "code",
   "execution_count": null,
   "metadata": {},
   "outputs": [],
   "source": []
  },
  {
   "cell_type": "code",
   "execution_count": null,
   "metadata": {},
   "outputs": [],
   "source": []
  },
  {
   "cell_type": "code",
   "execution_count": null,
   "metadata": {},
   "outputs": [],
   "source": []
  }
 ],
 "metadata": {
  "kernelspec": {
   "display_name": "Python 3",
   "language": "python",
   "name": "python3"
  },
  "language_info": {
   "codemirror_mode": {
    "name": "ipython",
    "version": 3
   },
   "file_extension": ".py",
   "mimetype": "text/x-python",
   "name": "python",
   "nbconvert_exporter": "python",
   "pygments_lexer": "ipython3",
   "version": "3.8.3"
  }
 },
 "nbformat": 4,
 "nbformat_minor": 4
}
